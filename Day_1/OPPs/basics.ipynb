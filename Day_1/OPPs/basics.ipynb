{
 "cells": [
  {
   "cell_type": "code",
   "execution_count": null,
   "id": "a0eddc93",
   "metadata": {},
   "outputs": [],
   "source": [
    "class Student:         \n",
    "    def __init__(self, name, age, roll_number):       # Parameterized\n",
    "        self.name = name\n",
    "        self.age = age\n",
    "        self.roll_number = roll_number\n",
    "\n",
    "ram = Student('Ram', 18, 28)\n",
    "\n",
    "print(ram)"
   ]
  },
  {
   "cell_type": "code",
   "execution_count": 2,
   "id": "99a08d16",
   "metadata": {},
   "outputs": [
    {
     "name": "stdout",
     "output_type": "stream",
     "text": [
      "Ram\n",
      "18\n",
      "12\n"
     ]
    }
   ],
   "source": [
    "class Student:         \n",
    "    name = 'Ram'\n",
    "    age = 18\n",
    "    roll_number =  12\n",
    "\n",
    "ram = Student()\n",
    "\n",
    "print(f\"{ram.name}\\n{ram.age}\\n{ram.roll_number}\")"
   ]
  }
 ],
 "metadata": {
  "kernelspec": {
   "display_name": "Python 3",
   "language": "python",
   "name": "python3"
  },
  "language_info": {
   "codemirror_mode": {
    "name": "ipython",
    "version": 3
   },
   "file_extension": ".py",
   "mimetype": "text/x-python",
   "name": "python",
   "nbconvert_exporter": "python",
   "pygments_lexer": "ipython3",
   "version": "3.12.6"
  }
 },
 "nbformat": 4,
 "nbformat_minor": 5
}
